{
 "cells": [
  {
   "cell_type": "code",
   "execution_count": 1,
   "id": "773717e7-d5fa-4c0b-a624-1c457ab25213",
   "metadata": {
    "tags": []
   },
   "outputs": [],
   "source": [
    "import pandas as pd\n",
    "import sqlite3\n",
    "from pymongo import MongoClient\n",
    "from pathlib import Path\n",
    "\n",
    "def upload_data_to_db(csv_file_path, database_type):\n",
    "    # Create a Path object\n",
    "    csv_file = Path(csv_file_path)\n",
    "\n",
    "    # Check if the file exists\n",
    "    if not csv_file.exists():\n",
    "        print(\"The specified CSV file does not exist.\")\n",
    "        return\n",
    "\n",
    "    # Read the CSV file into a DataFrame\n",
    "    df = pd.read_csv(csv_file)\n",
    "    filename = csv_file.stem  # Get the filename without the extension\n",
    "\n",
    "    if database_type.lower() == 'sqlite':\n",
    "        # Connect to SQLite database (or create it)\n",
    "        conn = sqlite3.connect('local_database.db')\n",
    "        cursor = conn.cursor()\n",
    "\n",
    "        # Create a table with the filename\n",
    "        df.to_sql(filename, conn, if_exists='replace', index=False)\n",
    "        print(f\"Data from {csv_file} has been added to the SQLite database as table '{filename}'.\")\n",
    "\n",
    "        # Commit changes and close the connection\n",
    "        conn.commit()\n",
    "        conn.close()\n",
    "\n",
    "    elif database_type.lower() == 'mongodb':\n",
    "        # Connect to MongoDB (local)\n",
    "        client = MongoClient('mongodb://localhost:27017/')\n",
    "        db = client['local_database']  # Specify the database name\n",
    "\n",
    "        # Upload data to MongoDB collection\n",
    "        data = df.to_dict(orient='records')\n",
    "        db[filename].insert_many(data)  # Insert data into collection named after the filename\n",
    "        print(f\"Data from {csv_file} has been uploaded to MongoDB collection '{filename}'.\")\n",
    "\n",
    "    else:\n",
    "        print(\"Unsupported database type. Please use 'SQLite' or 'MongoDB'.\")"
   ]
  },
  {
   "cell_type": "code",
   "execution_count": 2,
   "id": "750a32ad-d320-4274-b8ad-8bfee96ab1fe",
   "metadata": {
    "tags": []
   },
   "outputs": [
    {
     "name": "stdout",
     "output_type": "stream",
     "text": [
      "Data from courses.csv has been added to the SQLite database as table 'courses'.\n"
     ]
    }
   ],
   "source": [
    "csv_file_path = 'courses.csv'  # Replace with your CSV file path\n",
    "database_type = 'mongodb' #'sqlite'  # or 'mongodb'\n",
    "upload_data_to_db(csv_file_path, database_type)\n"
   ]
  },
  {
   "cell_type": "code",
   "execution_count": 4,
   "id": "2fc2538d-5318-4f04-8643-5eddc69bd88e",
   "metadata": {
    "tags": []
   },
   "outputs": [],
   "source": [
    "def get_sqlite_data(db_path, sql_query):\n",
    "    \"\"\"\n",
    "    Connects to SQLite and retrieves data based on the SQL query.\n",
    "    \"\"\"\n",
    "    conn = sqlite3.connect(db_path)\n",
    "    cursor = conn.cursor()\n",
    "    cursor.execute(sql_query)\n",
    "    data = cursor.fetchall()\n",
    "    conn.close()\n",
    "    return data"
   ]
  },
  {
   "cell_type": "code",
   "execution_count": 5,
   "id": "1cd4affb-eb04-42d2-8c84-a69268468714",
   "metadata": {
    "tags": []
   },
   "outputs": [],
   "source": [
    "sql_query = \"\"\"\n",
    "SELECT * \n",
    "FROM courses;\n",
    "\"\"\""
   ]
  },
  {
   "cell_type": "code",
   "execution_count": 6,
   "id": "2fa50828-0dec-4b7c-8bce-8030a051f484",
   "metadata": {
    "tags": []
   },
   "outputs": [
    {
     "data": {
      "text/plain": [
       "[(101, 'Data Structures', 2, 'Dr. Brown', 3),\n",
       " (102, 'Calculus', 3, 'Dr. Smith', 4),\n",
       " (103, 'Database Systems', 2, 'Dr. Brown', 3),\n",
       " (104, 'Linear Algebra', 3, 'Dr. Smith', 3),\n",
       " (105, 'Introduction to Business', 4, 'Dr. White', 3)]"
      ]
     },
     "execution_count": 6,
     "metadata": {},
     "output_type": "execute_result"
    }
   ],
   "source": [
    "get_sqlite_data(\"local_database.db\", sql_query)"
   ]
  },
  {
   "cell_type": "code",
   "execution_count": null,
   "id": "5c55e900-a84b-4cdc-8ee5-a090e6eb6861",
   "metadata": {},
   "outputs": [],
   "source": []
  }
 ],
 "metadata": {
  "kernelspec": {
   "display_name": "Python 3 (ipykernel)",
   "language": "python",
   "name": "python3"
  },
  "language_info": {
   "codemirror_mode": {
    "name": "ipython",
    "version": 3
   },
   "file_extension": ".py",
   "mimetype": "text/x-python",
   "name": "python",
   "nbconvert_exporter": "python",
   "pygments_lexer": "ipython3",
   "version": "3.11.5"
  }
 },
 "nbformat": 4,
 "nbformat_minor": 5
}
