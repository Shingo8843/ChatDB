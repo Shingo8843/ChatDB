{
 "cells": [
  {
   "cell_type": "code",
   "execution_count": 3,
   "id": "d977c3fa-c9e5-4d5c-ab53-ae5c2fe9c6e5",
   "metadata": {
    "tags": []
   },
   "outputs": [],
   "source": [
    "# pip install mysql-connector-python firebase-admin"
   ]
  },
  {
   "cell_type": "code",
   "execution_count": 6,
   "id": "e020be2c-6b1e-481e-8395-d1dc2ddd35f1",
   "metadata": {
    "tags": []
   },
   "outputs": [],
   "source": [
    "# pip install sqlparse\n",
    "# pip install pymongo"
   ]
  },
  {
   "cell_type": "code",
   "execution_count": 169,
   "id": "6845eb51-28d4-4c55-adad-071c0b06b2a0",
   "metadata": {
    "tags": []
   },
   "outputs": [],
   "source": [
    "import re\n",
    "from pymongo import MongoClient  # If using a MongoDB database\n",
    "import sqlite3  # If using SQLite for initial SQL queries"
   ]
  },
  {
   "cell_type": "code",
   "execution_count": null,
   "id": "d99c35f6-a83d-44fe-b353-86636d37443a",
   "metadata": {},
   "outputs": [],
   "source": [
    "database_info = {\n",
    "    \"database_name\": {\n",
    "        \"students\": {\n",
    "            \"columns\": {\n",
    "                \"StudentID\": \"INTEGER\",\n",
    "                \"FirstName\": \"TEXT\",\n",
    "                \"LastName\": \"TEXT\",\n",
    "                \"Email\": \"TEXT\"\n",
    "            }\n",
    "        },\n",
    "        \"enrollments\": {\n",
    "            \"columns\": {\n",
    "                \"EnrollmentID\": \"INTEGER\",\n",
    "                \"StudentID\": \"INTEGER\",\n",
    "                \"CourseID\": \"INTEGER\",\n",
    "                \"Semester\": \"TEXT\",\n",
    "                \"Grade\": \"TEXT\"\n",
    "            }\n",
    "        },\n",
    "        \"courses\": {\n",
    "            \"columns\": {\n",
    "                \"CourseID\": \"INTEGER\",\n",
    "                \"CourseName\": \"TEXT\",\n",
    "                \"Instructor\": \"TEXT\"\n",
    "            }\n",
    "        }\n",
    "    }\n",
    "}"
   ]
  },
  {
   "cell_type": "code",
   "execution_count": 591,
   "id": "56b1deae-0582-449a-abf1-4689f04e60ca",
   "metadata": {
    "tags": []
   },
   "outputs": [],
   "source": [
    "import re\n",
    "def parse_sql_to_mongo(sql_query, database_info):\n",
    "    # Remove line breaks and extra spaces\n",
    "    sql_query = ' '.join(sql_query.strip().split())\n",
    "\n",
    "    # Initialize pipeline and collection name\n",
    "    pipeline = []\n",
    "    collection_name = ''\n",
    "    aliases = {}  # Dictionary to track table aliases\n",
    "\n",
    "    # Extract SELECT and FROM clauses\n",
    "    select_match = re.search(r\"SELECT\\s+(.*?)\\s+FROM\\s+(\\w+)(?:\\s+AS\\s+(\\w+))?\", sql_query, re.IGNORECASE)\n",
    "    if select_match:\n",
    "        select_clause = select_match.group(1)\n",
    "        collection_name = select_match.group(2)\n",
    "        main_alias = select_match.group(3) or collection_name\n",
    "        aliases[main_alias] = collection_name\n",
    "    else:\n",
    "        raise ValueError(\"Invalid SQL query: Cannot find SELECT and FROM clauses.\")\n",
    "\n",
    "    # Helper function to clean field names based on their origin\n",
    "    def clean_field(field):\n",
    "        # Remove the alias if it's from the main table\n",
    "        if field.startswith(f\"{main_alias}.\") or field.startswith(f\"{collection_name}.\"):\n",
    "            return field.split('.')[-1]\n",
    "        return field\n",
    "\n",
    "    # Helper function to remove alias from fields in aggregation expressions\n",
    "    def clean_expression(expression):\n",
    "        # Strip main table alias from any expression field reference\n",
    "        return expression.replace(f\"{main_alias}.\", \"\").replace(f\"{collection_name}.\", \"\")\n",
    "\n",
    "    # Handle the remaining parts of the query\n",
    "    rest_of_query = sql_query[select_match.end():].strip()\n",
    "\n",
    "    # Initialize variables for WHERE, GROUP BY, etc.\n",
    "    match_conditions = {}\n",
    "    project_fields = {'_id': 0}  # Exclude _id by default\n",
    "    sort_fields = {}\n",
    "    limit_value = None\n",
    "    last_alias = main_alias  # Keep track of the last alias for join referencing\n",
    "    aggregation_fields = {}\n",
    "    having_conditions = {}\n",
    "    join_count = 0\n",
    "\n",
    "    join_pattern = re.compile(\n",
    "        r\"(INNER|LEFT|RIGHT|FULL\\s+OUTER|FULL)?\\s*JOIN\\s+(\\w+)(?:\\s+AS\\s+(\\w+)|\\s+(\\w+))?\\s+ON\\s+(.+?)(?=\\s*(INNER|LEFT|RIGHT|JOIN|FULL|WHERE|GROUP BY|ORDER BY|LIMIT|;|$))\",\n",
    "        re.IGNORECASE | re.DOTALL\n",
    "    )\n",
    "\n",
    "    while True:\n",
    "        join_match = join_pattern.search(rest_of_query)\n",
    "        if not join_match:\n",
    "            break\n",
    "\n",
    "        # Extract components of the JOIN clause\n",
    "        join_type = (join_match.group(1) or '').strip().upper()\n",
    "        table_name = join_match.group(2)\n",
    "        alias = (join_match.group(3) or join_match.group(4) or table_name).strip()\n",
    "        on_condition = join_match.group(5).strip()\n",
    "        alias = alias or table_name\n",
    "        aliases[alias] = table_name  # Store alias-to-table mapping\n",
    "\n",
    "        # Parse the ON condition fields (e.g., \"s.StudentID = e.StudentID\")\n",
    "        left_field, right_field = [f.strip() for f in on_condition.split('=')]\n",
    "        local_field = clean_field(left_field)\n",
    "        foreign_field = right_field.split('.')[-1]\n",
    "        if join_count == 0:\n",
    "            local_field = local_field.split('.')[-1]\n",
    "\n",
    "        # Construct the MongoDB `$lookup` stage\n",
    "        lookup_stage = {\n",
    "            '$lookup': {\n",
    "                'from': table_name,\n",
    "                'localField': local_field,\n",
    "                'foreignField': foreign_field,\n",
    "                'as': alias\n",
    "            }\n",
    "        }\n",
    "        pipeline.append(lookup_stage)\n",
    "\n",
    "        # If INNER JOIN, add `$unwind` stage\n",
    "        if join_type.upper() == 'INNER' or not join_type:\n",
    "            pipeline.append({'$unwind': f'${alias}'})\n",
    "\n",
    "        # Remove processed JOIN from the query\n",
    "        rest_of_query = rest_of_query[:join_match.start()] + rest_of_query[join_match.end():].strip()\n",
    "        join_count += 1\n",
    "\n",
    "    # Extract WHERE clause\n",
    "    where_match = re.search(r\"WHERE\\s+(.*?)(\\s+GROUP BY|\\s+ORDER BY|\\s+HAVING|\\s*+LIMIT|;|$)\", rest_of_query, re.IGNORECASE)\n",
    "    if where_match:\n",
    "        where_clause = where_match.group(1)\n",
    "        conditions = [cond.strip() for cond in re.split(r' AND | and ', where_clause)]\n",
    "        for condition in conditions:\n",
    "            match_cond = re.match(r'(\\w+\\.?\\w*)\\s*(=|>|<|>=|<=|!=)\\s*(.+)', condition)\n",
    "            if match_cond:\n",
    "                field, operator, value = match_cond.groups()\n",
    "                field = clean_field(field)  # Remove table prefix\n",
    "                operator_map = {'=': '$eq', '>': '$gt', '<': '$lt', '>=': '$gte', '<=': '$lte', '!=': '$ne'}\n",
    "                mongo_operator = operator_map.get(operator)\n",
    "                value = value.strip()\n",
    "                if value.startswith(\"'\") and value.endswith(\"'\"):\n",
    "                    value = value[1:-1]\n",
    "                elif value.startswith('\"') and value.endswith('\"'):\n",
    "                    value = value[1:-1]\n",
    "                else:\n",
    "                    try:\n",
    "                        value = float(value) if '.' in value else int(value)\n",
    "                    except ValueError:\n",
    "                        pass  # Keep as string\n",
    "                match_conditions[field] = {mongo_operator: value}\n",
    "            else:\n",
    "                raise ValueError(f\"Unable to parse WHERE condition: {condition}\")\n",
    "\n",
    "    # Add match conditions to pipeline\n",
    "    if match_conditions:\n",
    "        pipeline.append({'$match': match_conditions})\n",
    "\n",
    "    # Parse SELECT clause\n",
    "    for select_field in select_clause.split(','):\n",
    "        select_field = select_field.strip()\n",
    "        agg_match = re.match(r\"(SUM|AVG|COUNT|MIN|MAX)\\((.*?)\\)\\s+AS\\s+(\\w+)\", select_field, re.IGNORECASE)\n",
    "        if agg_match:\n",
    "            # Aggregation function handling\n",
    "            func, col, alias = agg_match.groups()\n",
    "            col = clean_field(col)  # Clean the field within aggregation\n",
    "            func_map = {'SUM': '$sum', 'AVG': '$avg', 'COUNT': '$sum', 'MIN': '$min', 'MAX': '$max'}\n",
    "            mongo_func = func_map[func.upper()]\n",
    "            aggregation_fields[alias] = {mongo_func: f\"${col}\" if func.upper() != 'COUNT' else 1}\n",
    "            project_fields[alias] = f\"${alias}\"\n",
    "        else:\n",
    "            # Direct field selection handling\n",
    "            clean_select_field = clean_field(select_field)\n",
    "            clean_select_field_ = clean_select_field.split('.')[1] if '.' in clean_select_field else clean_select_field\n",
    "            project_fields[clean_select_field_] = f\"${clean_select_field}\"\n",
    "\n",
    "    # Extract GROUP BY clause\n",
    "    group_by_match = re.search(r\"GROUP BY\\s+(.*?)(\\s+HAVING|\\s+ORDER BY|\\s*+LIMIT|;|$)\", rest_of_query, re.IGNORECASE)\n",
    "    if group_by_match:\n",
    "        group_by_fields = [clean_field(field.strip()) for field in group_by_match.group(1).split(',')]\n",
    "        group_stage = {'$group': {'_id': {}}}\n",
    "        for field in group_by_fields:\n",
    "            if ' AS ' in field:\n",
    "                field = field.split(' AS ')[1]\n",
    "            group_stage['$group']['_id'][field] = f\"${field}\"\n",
    "            project_fields[field] = f\"${field}\"\n",
    "\n",
    "        # Process aggregation functions in SELECT clause\n",
    "        for alias, agg_expr in aggregation_fields.items():\n",
    "            group_stage['$group'][alias] = agg_expr\n",
    "\n",
    "        pipeline.append(group_stage)\n",
    "\n",
    "        # Extract HAVING clause\n",
    "        having_match = re.search(r\"HAVING\\s+(.*?)(\\s+ORDER BY|\\s+LIMIT|;|$)\", rest_of_query, re.IGNORECASE)\n",
    "        if having_match:\n",
    "            having_clause = having_match.group(1)\n",
    "            having_conditions = []\n",
    "            conditions = [cond.strip() for cond in re.split(r' AND | and ', having_clause)]\n",
    "            for condition in conditions:\n",
    "                match_cond = re.match(r'(\\w+)\\s*(=|>|<|>=|<=|!=)\\s*(.+)', condition)\n",
    "                if match_cond:\n",
    "                    field, operator, value = match_cond.groups()\n",
    "                    field = field.strip()\n",
    "                    operator_map = {'=': '$eq', '>': '$gt', '<': '$lt', '>=': '$gte', '<=': '$lte', '!=': '$ne'}\n",
    "                    mongo_operator = operator_map.get(operator)\n",
    "                    value = value.strip()\n",
    "                    if value.startswith(\"'\") and value.endswith(\"'\"):\n",
    "                        value = value[1:-1]\n",
    "                    elif value.startswith('\"') and value.endswith('\"'):\n",
    "                        value = value[1:-1]\n",
    "                    else:\n",
    "                        try:\n",
    "                            value = float(value) if '.' in value else int(value)\n",
    "                        except ValueError:\n",
    "                            pass  # Keep as string\n",
    "                    having_conditions.append({field: {mongo_operator: value}})\n",
    "                else:\n",
    "                    raise ValueError(f\"Unable to parse HAVING condition: {condition}\")\n",
    "\n",
    "            if having_conditions:\n",
    "                # Combine multiple conditions using $and\n",
    "                if len(having_conditions) > 1:\n",
    "                    pipeline.append({'$match': {'$and': having_conditions}})\n",
    "                else:\n",
    "                    pipeline.append({'$match': having_conditions[0]})\n",
    "\n",
    "        # Project fields after grouping and having\n",
    "        pipeline.append({'$project': project_fields})\n",
    "\n",
    "    else:\n",
    "        # If no GROUP BY, just project the fields\n",
    "        pipeline.append({'$project': project_fields})\n",
    "\n",
    "    # Extract ORDER BY clause\n",
    "    order_by_match = re.search(r\"ORDER BY\\s+(.*?)(ASC|DESC)?(\\s+LIMIT|;|$)\", rest_of_query, re.IGNORECASE)\n",
    "    if order_by_match:\n",
    "        order_by_fields = [clean_field(field.strip()) for field in order_by_match.group(1).split(',')]\n",
    "        order_direction = 1\n",
    "        direction = order_by_match.group(2)\n",
    "        if direction and direction.upper() == 'DESC':\n",
    "            order_direction = -1\n",
    "        for field in order_by_fields:\n",
    "            sort_fields[field] = order_direction\n",
    "\n",
    "    # Add sort fields to pipeline\n",
    "    if sort_fields:\n",
    "        pipeline.append({'$sort': sort_fields})\n",
    "\n",
    "    # Extract LIMIT clause\n",
    "    limit_match = re.search(r\"LIMIT\\s+(\\d+)\", rest_of_query, re.IGNORECASE)\n",
    "    if limit_match:\n",
    "        limit_value = int(limit_match.group(1))\n",
    "        pipeline.append({'$limit': limit_value})\n",
    "\n",
    "    return collection_name, pipeline"
   ]
  },
  {
   "cell_type": "code",
   "execution_count": 592,
   "id": "3798c165-87ad-4a81-80f3-fbe0722324c8",
   "metadata": {
    "tags": []
   },
   "outputs": [],
   "source": [
    "def get_sqlite_data(db_path, sql_query):\n",
    "    \"\"\"\n",
    "    Connects to SQLite and retrieves data based on the SQL query.\n",
    "    \"\"\"\n",
    "    conn = sqlite3.connect(db_path)\n",
    "    cursor = conn.cursor()\n",
    "    cursor.execute(sql_query)\n",
    "    data = cursor.fetchall()\n",
    "    conn.close()\n",
    "    return data"
   ]
  },
  {
   "cell_type": "code",
   "execution_count": null,
   "id": "1560ea39-bc7a-4fa6-bcfe-159ea5163315",
   "metadata": {
    "tags": []
   },
   "outputs": [],
   "source": []
  },
  {
   "cell_type": "code",
   "execution_count": 615,
   "id": "5a6682b3-d4fc-46db-a11b-64dc8edad9fd",
   "metadata": {
    "tags": []
   },
   "outputs": [],
   "source": [
    "sql_query = \"\"\"\n",
    "SELECT students.FirstName, students.LastName, courses.CourseName, enrollments.Grade\n",
    "FROM students\n",
    "INNER JOIN enrollments ON students.StudentID = enrollments.StudentID\n",
    "INNER JOIN courses ON enrollments.CourseID = courses.CourseID\n",
    "WHERE enrollments.Grade = 'A';\n",
    "\"\"\""
   ]
  },
  {
   "cell_type": "code",
   "execution_count": 616,
   "id": "88fc5f20-f203-4935-b16b-f633c5ff6ccf",
   "metadata": {
    "tags": []
   },
   "outputs": [
    {
     "name": "stdout",
     "output_type": "stream",
     "text": [
      "[{'$lookup': {'from': 'enrollments', 'localField': 'StudentID', 'foreignField': 'StudentID', 'as': 'enrollments'}}, {'$unwind': '$enrollments'}, {'$lookup': {'from': 'courses', 'localField': 'enrollments.CourseID', 'foreignField': 'CourseID', 'as': 'courses'}}, {'$unwind': '$courses'}, {'$match': {'enrollments.Grade': {'$eq': 'A'}}}, {'$project': {'_id': 0, 'FirstName': '$FirstName', 'LastName': '$LastName', 'CourseName': '$courses.CourseName', 'Grade': '$enrollments.Grade'}}]\n",
      "{'FirstName': 'John', 'LastName': 'Doe', 'CourseName': 'Data Structures', 'Grade': 'A'}\n",
      "{'FirstName': 'John', 'LastName': 'Doe', 'CourseName': 'Database Systems', 'Grade': 'A'}\n",
      "{'FirstName': 'Jim', 'LastName': 'Beam', 'CourseName': 'Data Structures', 'Grade': 'A'}\n",
      "{'FirstName': 'John', 'LastName': 'Smith', 'CourseName': 'Data Structures', 'Grade': 'A'}\n"
     ]
    },
    {
     "data": {
      "text/plain": [
       "[('John', 'Doe', 'Data Structures', 'A'),\n",
       " ('John', 'Doe', 'Database Systems', 'A'),\n",
       " ('Jim', 'Beam', 'Data Structures', 'A'),\n",
       " ('John', 'Smith', 'Data Structures', 'A')]"
      ]
     },
     "execution_count": 616,
     "metadata": {},
     "output_type": "execute_result"
    }
   ],
   "source": [
    "collection_name, pipeline = parse_sql_to_mongo(sql_query, database_info)\n",
    "print(pipeline)\n",
    "client = MongoClient('mongodb://localhost:27017/')\n",
    "db = client['test_db']\n",
    "collection = db[collection_name]\n",
    "\n",
    "results = collection.aggregate(pipeline)\n",
    "for doc in results:\n",
    "    print(doc)\n",
    "get_sqlite_data(\"college_data.db\", sql_query)"
   ]
  },
  {
   "cell_type": "code",
   "execution_count": 595,
   "id": "3e30faf9-7394-4f85-bb2f-70111f244c5c",
   "metadata": {
    "tags": []
   },
   "outputs": [],
   "source": [
    "sql_query = \"\"\"\n",
    "SELECT students.FirstName, students.LastName, enrollments.Grade\n",
    "FROM students\n",
    "INNER JOIN enrollments ON students.StudentID = enrollments.StudentID;\n",
    "\"\"\""
   ]
  },
  {
   "cell_type": "code",
   "execution_count": 596,
   "id": "f968b1a8-85cd-498e-af55-e92d0cb141a3",
   "metadata": {
    "tags": []
   },
   "outputs": [
    {
     "name": "stdout",
     "output_type": "stream",
     "text": [
      "[{'$lookup': {'from': 'enrollments', 'localField': 'StudentID', 'foreignField': 'StudentID', 'as': 'enrollments'}}, {'$unwind': '$enrollments'}, {'$project': {'_id': 0, 'FirstName': '$FirstName', 'LastName': '$LastName', 'Grade': '$enrollments.Grade'}}]\n",
      "{'FirstName': 'John', 'LastName': 'Doe', 'Grade': 'A'}\n",
      "{'FirstName': 'John', 'LastName': 'Doe', 'Grade': 'A'}\n",
      "{'FirstName': 'Jane', 'LastName': 'Doe', 'Grade': 'B'}\n",
      "{'FirstName': 'Jim', 'LastName': 'Beam', 'Grade': 'A'}\n",
      "{'FirstName': 'Alice', 'LastName': 'Johnson', 'Grade': 'C'}\n",
      "{'FirstName': 'John', 'LastName': 'Smith', 'Grade': 'A'}\n",
      "{'FirstName': 'Bill', 'LastName': 'Chu', 'Grade': 'B'}\n"
     ]
    },
    {
     "data": {
      "text/plain": [
       "[('John', 'Doe', 'A'),\n",
       " ('John', 'Doe', 'A'),\n",
       " ('Jane', 'Doe', 'B'),\n",
       " ('Jim', 'Beam', 'A'),\n",
       " ('Alice', 'Johnson', 'C'),\n",
       " ('John', 'Smith', 'A'),\n",
       " ('Bill', 'Chu', 'B')]"
      ]
     },
     "execution_count": 596,
     "metadata": {},
     "output_type": "execute_result"
    }
   ],
   "source": [
    "collection_name, pipeline = parse_sql_to_mongo(sql_query, database_info)\n",
    "print(pipeline)\n",
    "client = MongoClient('mongodb://localhost:27017/')\n",
    "db = client['test_db']\n",
    "collection = db[collection_name]\n",
    "\n",
    "results = collection.aggregate(pipeline)\n",
    "for doc in results:\n",
    "    print(doc)\n",
    "get_sqlite_data(\"college_data.db\", sql_query)"
   ]
  },
  {
   "cell_type": "code",
   "execution_count": 597,
   "id": "d97d6f97-1102-4f4c-b277-b153c7aa0e7e",
   "metadata": {
    "tags": []
   },
   "outputs": [],
   "source": [
    "sql_query = \"\"\"\n",
    "SELECT courses.CourseName, COUNT(enrollments.EnrollmentID) AS TotalEnrollments\n",
    "FROM courses\n",
    "INNER JOIN enrollments ON courses.CourseID = enrollments.CourseID\n",
    "GROUP BY courses.CourseName;\n",
    "\"\"\""
   ]
  },
  {
   "cell_type": "code",
   "execution_count": 598,
   "id": "2516dca7-7c83-4928-a18d-229368df8a9f",
   "metadata": {
    "tags": []
   },
   "outputs": [
    {
     "name": "stdout",
     "output_type": "stream",
     "text": [
      "[{'$lookup': {'from': 'enrollments', 'localField': 'CourseID', 'foreignField': 'CourseID', 'as': 'enrollments'}}, {'$unwind': '$enrollments'}, {'$group': {'_id': {'CourseName': '$CourseName'}, 'TotalEnrollments': {'$sum': 1}}}, {'$project': {'_id': 0, 'CourseName': '$CourseName', 'TotalEnrollments': '$TotalEnrollments'}}]\n",
      "{'TotalEnrollments': 1}\n",
      "{'TotalEnrollments': 1}\n",
      "{'TotalEnrollments': 3}\n",
      "{'TotalEnrollments': 2}\n"
     ]
    },
    {
     "data": {
      "text/plain": [
       "[('Calculus', 2),\n",
       " ('Data Structures', 3),\n",
       " ('Database Systems', 1),\n",
       " ('Linear Algebra', 1)]"
      ]
     },
     "execution_count": 598,
     "metadata": {},
     "output_type": "execute_result"
    }
   ],
   "source": [
    "collection_name, pipeline = parse_sql_to_mongo(sql_query, database_info)\n",
    "print(pipeline)\n",
    "client = MongoClient('mongodb://localhost:27017/')\n",
    "db = client['test_db']\n",
    "collection = db[collection_name]\n",
    "\n",
    "results = collection.aggregate(pipeline)\n",
    "for doc in results:\n",
    "    print(doc)\n",
    "get_sqlite_data(\"college_data.db\", sql_query)"
   ]
  },
  {
   "cell_type": "code",
   "execution_count": 599,
   "id": "d9270ca4-08a6-48f9-a1bd-c00864803bac",
   "metadata": {
    "tags": []
   },
   "outputs": [],
   "source": [
    "# SELECT\n",
    "\n",
    "sql_query = \"\"\"\n",
    "SELECT StudentID FROM students;\n",
    "\"\"\""
   ]
  },
  {
   "cell_type": "code",
   "execution_count": 600,
   "id": "3ba69e7c-8343-4222-a44c-f9b150572c3f",
   "metadata": {
    "tags": []
   },
   "outputs": [
    {
     "name": "stdout",
     "output_type": "stream",
     "text": [
      "[{'$project': {'_id': 0, 'StudentID': '$StudentID'}}]\n",
      "{'StudentID': 1}\n",
      "{'StudentID': 2}\n",
      "{'StudentID': 3}\n",
      "{'StudentID': 4}\n",
      "{'StudentID': 5}\n",
      "{'StudentID': 6}\n",
      "{'StudentID': 7}\n"
     ]
    },
    {
     "data": {
      "text/plain": [
       "[(1,), (2,), (3,), (4,), (5,), (6,), (7,)]"
      ]
     },
     "execution_count": 600,
     "metadata": {},
     "output_type": "execute_result"
    }
   ],
   "source": [
    "collection_name, pipeline = parse_sql_to_mongo(sql_query, database_info)\n",
    "print(pipeline)\n",
    "client = MongoClient('mongodb://localhost:27017/')\n",
    "db = client['test_db']\n",
    "collection = db[collection_name]\n",
    "\n",
    "results = collection.aggregate(pipeline)\n",
    "for doc in results:\n",
    "    print(doc)\n",
    "get_sqlite_data(\"college_data.db\", sql_query)"
   ]
  },
  {
   "cell_type": "code",
   "execution_count": 601,
   "id": "4edb3ebf-7d12-44ac-a6dc-9bf50f5ed06d",
   "metadata": {
    "tags": []
   },
   "outputs": [],
   "source": [
    "# WHERE\n",
    "\n",
    "sql_query = \"\"\"\n",
    "SELECT s.FirstName, s.LastName\n",
    "FROM students AS s\n",
    "JOIN enrollments e ON s.StudentID = e.StudentID\n",
    "WHERE e.CourseID = 101;\n",
    "\"\"\""
   ]
  },
  {
   "cell_type": "code",
   "execution_count": 602,
   "id": "0cf646a6-32aa-40c9-b359-0dda0db52497",
   "metadata": {
    "tags": []
   },
   "outputs": [
    {
     "name": "stdout",
     "output_type": "stream",
     "text": [
      "[{'$lookup': {'from': 'enrollments', 'localField': 'StudentID', 'foreignField': 'StudentID', 'as': 'e'}}, {'$unwind': '$e'}, {'$match': {'e.CourseID': {'$eq': 101}}}, {'$project': {'_id': 0, 'FirstName': '$FirstName', 'LastName': '$LastName'}}]\n",
      "{'FirstName': 'John', 'LastName': 'Doe'}\n",
      "{'FirstName': 'Jim', 'LastName': 'Beam'}\n",
      "{'FirstName': 'John', 'LastName': 'Smith'}\n"
     ]
    },
    {
     "data": {
      "text/plain": [
       "[('John', 'Doe'), ('Jim', 'Beam'), ('John', 'Smith')]"
      ]
     },
     "execution_count": 602,
     "metadata": {},
     "output_type": "execute_result"
    }
   ],
   "source": [
    "collection_name, pipeline = parse_sql_to_mongo(sql_query, database_info)\n",
    "print(pipeline)\n",
    "client = MongoClient('mongodb://localhost:27017/')\n",
    "db = client['test_db']\n",
    "collection = db[collection_name]\n",
    "\n",
    "results = collection.aggregate(pipeline)\n",
    "for doc in results:\n",
    "    print(doc)\n",
    "get_sqlite_data(\"college_data.db\", sql_query)"
   ]
  },
  {
   "cell_type": "code",
   "execution_count": 603,
   "id": "c0401bf6-36c0-4896-9553-3df76212e2e8",
   "metadata": {
    "tags": []
   },
   "outputs": [],
   "source": [
    "# ORDER BY\n",
    "\n",
    "sql_query = \"\"\"\n",
    "SELECT FirstName, LastName\n",
    "FROM students\n",
    "ORDER BY LastName ASC;\n",
    "\"\"\""
   ]
  },
  {
   "cell_type": "code",
   "execution_count": 604,
   "id": "9cd28653-a589-4624-9488-6e640cd28525",
   "metadata": {
    "tags": []
   },
   "outputs": [
    {
     "name": "stdout",
     "output_type": "stream",
     "text": [
      "[{'$project': {'_id': 0, 'FirstName': '$FirstName', 'LastName': '$LastName'}}, {'$sort': {'LastName': 1}}]\n",
      "{'FirstName': 'Jim', 'LastName': 'Beam'}\n",
      "{'FirstName': 'Bill', 'LastName': 'Chu'}\n",
      "{'FirstName': 'John', 'LastName': 'Doe'}\n",
      "{'FirstName': 'Jane', 'LastName': 'Doe'}\n",
      "{'FirstName': 'Alice', 'LastName': 'Johnson'}\n",
      "{'FirstName': 'David', 'LastName': 'Small'}\n",
      "{'FirstName': 'John', 'LastName': 'Smith'}\n"
     ]
    },
    {
     "data": {
      "text/plain": [
       "[('Jim', 'Beam'),\n",
       " ('Bill', 'Chu'),\n",
       " ('John', 'Doe'),\n",
       " ('Jane', 'Doe'),\n",
       " ('Alice', 'Johnson'),\n",
       " ('David', 'Small'),\n",
       " ('John', 'Smith')]"
      ]
     },
     "execution_count": 604,
     "metadata": {},
     "output_type": "execute_result"
    }
   ],
   "source": [
    "collection_name, pipeline = parse_sql_to_mongo(sql_query, database_info)\n",
    "print(pipeline)\n",
    "client = MongoClient('mongodb://localhost:27017/')\n",
    "db = client['test_db']\n",
    "collection = db[collection_name]\n",
    "\n",
    "results = collection.aggregate(pipeline)\n",
    "for doc in results:\n",
    "    print(doc)\n",
    "get_sqlite_data(\"college_data.db\", sql_query)"
   ]
  },
  {
   "cell_type": "code",
   "execution_count": 605,
   "id": "c99de987-f23d-4f66-b852-94523eabc9a6",
   "metadata": {
    "tags": []
   },
   "outputs": [],
   "source": [
    "# JOIN\n",
    "\n",
    "sql_query = \"\"\"\n",
    "SELECT s.FirstName, s.LastName, c.CourseName\n",
    "FROM students AS s\n",
    "JOIN enrollments e ON s.StudentID = e.StudentID\n",
    "JOIN courses c ON e.CourseID = c.CourseID;\n",
    "\"\"\""
   ]
  },
  {
   "cell_type": "code",
   "execution_count": 606,
   "id": "16ec9fa4-c77f-4971-8974-011816332624",
   "metadata": {
    "tags": []
   },
   "outputs": [
    {
     "name": "stdout",
     "output_type": "stream",
     "text": [
      "[{'$lookup': {'from': 'enrollments', 'localField': 'StudentID', 'foreignField': 'StudentID', 'as': 'e'}}, {'$unwind': '$e'}, {'$lookup': {'from': 'courses', 'localField': 'e.CourseID', 'foreignField': 'CourseID', 'as': 'c'}}, {'$unwind': '$c'}, {'$project': {'_id': 0, 'FirstName': '$FirstName', 'LastName': '$LastName', 'CourseName': '$c.CourseName'}}]\n",
      "{'FirstName': 'John', 'LastName': 'Doe', 'CourseName': 'Data Structures'}\n",
      "{'FirstName': 'John', 'LastName': 'Doe', 'CourseName': 'Database Systems'}\n",
      "{'FirstName': 'Jane', 'LastName': 'Doe', 'CourseName': 'Calculus'}\n",
      "{'FirstName': 'Jim', 'LastName': 'Beam', 'CourseName': 'Data Structures'}\n",
      "{'FirstName': 'Alice', 'LastName': 'Johnson', 'CourseName': 'Linear Algebra'}\n",
      "{'FirstName': 'John', 'LastName': 'Smith', 'CourseName': 'Data Structures'}\n",
      "{'FirstName': 'Bill', 'LastName': 'Chu', 'CourseName': 'Calculus'}\n"
     ]
    },
    {
     "data": {
      "text/plain": [
       "[('John', 'Doe', 'Data Structures'),\n",
       " ('John', 'Doe', 'Database Systems'),\n",
       " ('Jane', 'Doe', 'Calculus'),\n",
       " ('Jim', 'Beam', 'Data Structures'),\n",
       " ('Alice', 'Johnson', 'Linear Algebra'),\n",
       " ('John', 'Smith', 'Data Structures'),\n",
       " ('Bill', 'Chu', 'Calculus')]"
      ]
     },
     "execution_count": 606,
     "metadata": {},
     "output_type": "execute_result"
    }
   ],
   "source": [
    "collection_name, pipeline = parse_sql_to_mongo(sql_query, database_info)\n",
    "print(pipeline)\n",
    "client = MongoClient('mongodb://localhost:27017/')\n",
    "db = client['test_db']\n",
    "collection = db[collection_name]\n",
    "\n",
    "results = collection.aggregate(pipeline)\n",
    "for doc in results:\n",
    "    print(doc)\n",
    "get_sqlite_data(\"college_data.db\", sql_query)"
   ]
  },
  {
   "cell_type": "code",
   "execution_count": 607,
   "id": "626bbb95-717e-4d90-a419-37fdcdfb3a6c",
   "metadata": {
    "tags": []
   },
   "outputs": [],
   "source": [
    "# GROUP BY\n",
    "\n",
    "sql_query = \"\"\"\n",
    "SELECT c.CourseName, COUNT(e.StudentID) AS StudentCount\n",
    "FROM courses AS c\n",
    "JOIN enrollments e ON c.CourseID = e.CourseID\n",
    "GROUP BY c.CourseName;\n",
    "\"\"\""
   ]
  },
  {
   "cell_type": "code",
   "execution_count": 608,
   "id": "03d327f5-a1d8-457b-a56b-15c612019a68",
   "metadata": {
    "tags": []
   },
   "outputs": [
    {
     "name": "stdout",
     "output_type": "stream",
     "text": [
      "[{'$lookup': {'from': 'enrollments', 'localField': 'CourseID', 'foreignField': 'CourseID', 'as': 'e'}}, {'$unwind': '$e'}, {'$group': {'_id': {'CourseName': '$CourseName'}, 'StudentCount': {'$sum': 1}}}, {'$project': {'_id': 0, 'CourseName': '$CourseName', 'StudentCount': '$StudentCount'}}]\n",
      "{'StudentCount': 1}\n",
      "{'StudentCount': 3}\n",
      "{'StudentCount': 2}\n",
      "{'StudentCount': 1}\n"
     ]
    },
    {
     "data": {
      "text/plain": [
       "[('Calculus', 2),\n",
       " ('Data Structures', 3),\n",
       " ('Database Systems', 1),\n",
       " ('Linear Algebra', 1)]"
      ]
     },
     "execution_count": 608,
     "metadata": {},
     "output_type": "execute_result"
    }
   ],
   "source": [
    "collection_name, pipeline = parse_sql_to_mongo(sql_query, database_info)\n",
    "print(pipeline)\n",
    "client = MongoClient('mongodb://localhost:27017/')\n",
    "db = client['test_db']\n",
    "collection = db[collection_name]\n",
    "\n",
    "results = collection.aggregate(pipeline)\n",
    "for doc in results:\n",
    "    print(doc)\n",
    "get_sqlite_data(\"college_data.db\", sql_query)"
   ]
  },
  {
   "cell_type": "code",
   "execution_count": 609,
   "id": "1bc11ee6-7abe-4320-a58b-15087efd7182",
   "metadata": {
    "tags": []
   },
   "outputs": [],
   "source": [
    "# HAVING\n",
    "\n",
    "sql_query = \"\"\"\n",
    "SELECT c.CourseName, COUNT(e.StudentID) AS StudentCount\n",
    "FROM courses AS c\n",
    "JOIN enrollments e ON c.CourseID = e.CourseID\n",
    "GROUP BY c.CourseName\n",
    "HAVING StudentCount > 2;\n",
    "\"\"\""
   ]
  },
  {
   "cell_type": "code",
   "execution_count": 610,
   "id": "f62892dd-3fe0-4586-a204-07660742516f",
   "metadata": {
    "tags": []
   },
   "outputs": [
    {
     "name": "stdout",
     "output_type": "stream",
     "text": [
      "[{'$lookup': {'from': 'enrollments', 'localField': 'CourseID', 'foreignField': 'CourseID', 'as': 'e'}}, {'$unwind': '$e'}, {'$group': {'_id': {'CourseName': '$CourseName'}, 'StudentCount': {'$sum': 1}}}, {'$match': {'StudentCount': {'$gt': 2}}}, {'$project': {'_id': 0, 'CourseName': '$CourseName', 'StudentCount': '$StudentCount'}}]\n",
      "{'StudentCount': 3}\n"
     ]
    },
    {
     "data": {
      "text/plain": [
       "[('Data Structures', 3)]"
      ]
     },
     "execution_count": 610,
     "metadata": {},
     "output_type": "execute_result"
    }
   ],
   "source": [
    "collection_name, pipeline = parse_sql_to_mongo(sql_query, database_info)\n",
    "print(pipeline)\n",
    "client = MongoClient('mongodb://localhost:27017/')\n",
    "db = client['test_db']\n",
    "collection = db[collection_name]\n",
    "\n",
    "results = collection.aggregate(pipeline)\n",
    "for doc in results:\n",
    "    print(doc)\n",
    "get_sqlite_data(\"college_data.db\", sql_query)"
   ]
  },
  {
   "cell_type": "code",
   "execution_count": 611,
   "id": "6194d958-ea3b-4a0d-a829-e0da2f5a4572",
   "metadata": {
    "tags": []
   },
   "outputs": [],
   "source": [
    "# LIMIT\n",
    "\n",
    "sql_query = \"\"\"\n",
    "SELECT StudentID, FirstName, LastName FROM students\n",
    "LIMIT 5;\n",
    "\"\"\""
   ]
  },
  {
   "cell_type": "code",
   "execution_count": 612,
   "id": "72b17a7d-606c-49c4-bbe4-2c638bb2fae8",
   "metadata": {
    "tags": []
   },
   "outputs": [
    {
     "name": "stdout",
     "output_type": "stream",
     "text": [
      "[{'$project': {'_id': 0, 'StudentID': '$StudentID', 'FirstName': '$FirstName', 'LastName': '$LastName'}}, {'$limit': 5}]\n",
      "{'StudentID': 1, 'FirstName': 'John', 'LastName': 'Doe'}\n",
      "{'StudentID': 2, 'FirstName': 'Jane', 'LastName': 'Doe'}\n",
      "{'StudentID': 3, 'FirstName': 'Jim', 'LastName': 'Beam'}\n",
      "{'StudentID': 4, 'FirstName': 'Alice', 'LastName': 'Johnson'}\n",
      "{'StudentID': 5, 'FirstName': 'John', 'LastName': 'Smith'}\n"
     ]
    },
    {
     "data": {
      "text/plain": [
       "[(1, 'John', 'Doe'),\n",
       " (2, 'Jane', 'Doe'),\n",
       " (3, 'Jim', 'Beam'),\n",
       " (4, 'Alice', 'Johnson'),\n",
       " (5, 'John', 'Smith')]"
      ]
     },
     "execution_count": 612,
     "metadata": {},
     "output_type": "execute_result"
    }
   ],
   "source": [
    "collection_name, pipeline = parse_sql_to_mongo(sql_query, database_info)\n",
    "print(pipeline)\n",
    "client = MongoClient('mongodb://localhost:27017/')\n",
    "db = client['test_db']\n",
    "collection = db[collection_name]\n",
    "\n",
    "results = collection.aggregate(pipeline)\n",
    "for doc in results:\n",
    "    print(doc)\n",
    "get_sqlite_data(\"college_data.db\", sql_query)"
   ]
  },
  {
   "cell_type": "code",
   "execution_count": 621,
   "id": "25ef00d7-6e30-4350-9e15-c45f47aefdf0",
   "metadata": {
    "tags": []
   },
   "outputs": [],
   "source": [
    "# AVG\n",
    "\n",
    "# sql_query = \"\"\"\n",
    "# SELECT AVG(Grade) AS AverageGrade\n",
    "# FROM enrollments\n",
    "# WHERE CourseID = 101\n",
    "# GROUP BY CourseID;\n",
    "# \"\"\""
   ]
  },
  {
   "cell_type": "code",
   "execution_count": 620,
   "id": "65675361-b4d9-4b36-855e-e7f192fe4b90",
   "metadata": {},
   "outputs": [
    {
     "name": "stdout",
     "output_type": "stream",
     "text": [
      "[{'$match': {'CourseID': {'$eq': 101}}}, {'$group': {'_id': {'CourseID': '$CourseID'}, 'AverageGrade': {'$avg': '$Grade'}}}, {'$project': {'_id': 0, 'AverageGrade': '$AverageGrade', 'CourseID': '$CourseID'}}]\n",
      "{'AverageGrade': None}\n"
     ]
    },
    {
     "data": {
      "text/plain": [
       "[(0.0,)]"
      ]
     },
     "execution_count": 620,
     "metadata": {},
     "output_type": "execute_result"
    }
   ],
   "source": [
    "collection_name, pipeline = parse_sql_to_mongo(sql_query, database_info)\n",
    "print(pipeline)\n",
    "client = MongoClient('mongodb://localhost:27017/')\n",
    "db = client['test_db']\n",
    "collection = db[collection_name]\n",
    "\n",
    "results = collection.aggregate(pipeline)\n",
    "for doc in results:\n",
    "    print(doc)\n",
    "get_sqlite_data(\"college_data.db\", sql_query)"
   ]
  },
  {
   "cell_type": "code",
   "execution_count": 24,
   "id": "e36b0108-6c85-46d6-ab1d-ab9b5ed4958a",
   "metadata": {
    "tags": []
   },
   "outputs": [],
   "source": [
    "# import sqlite3\n",
    "# import pandas as pd\n",
    "\n",
    "# # Load the CSV data into a DataFrame\n",
    "# file_path = 'coffee_shop_sales.csv'\n",
    "# data = pd.read_csv(file_path)\n",
    "\n",
    "# # Specify the path for the SQLite database\n",
    "# db_path = 'coffee_shop_sales.db'\n",
    "\n",
    "# # Connect to the SQLite database (or create it if it doesn't exist)\n",
    "# conn = sqlite3.connect(db_path)\n",
    "# cursor = conn.cursor()\n",
    "\n",
    "# # Define the table structure to match the CSV data\n",
    "# create_table_query = '''\n",
    "# CREATE TABLE IF NOT EXISTS coffee_shop_sales (\n",
    "#     transaction_id INTEGER,\n",
    "#     transaction_date TEXT,\n",
    "#     transaction_time TEXT,\n",
    "#     transaction_qty INTEGER,\n",
    "#     store_id INTEGER,\n",
    "#     store_location TEXT,\n",
    "#     product_id INTEGER,\n",
    "#     unit_price REAL,\n",
    "#     product_category TEXT,\n",
    "#     product_type TEXT,\n",
    "#     product_detail TEXT\n",
    "# );\n",
    "# '''\n",
    "# cursor.execute(create_table_query)\n",
    "\n",
    "# # Insert the CSV data into the SQLite table\n",
    "# data.to_sql('coffee_shop_sales', conn, if_exists='replace', index=False)\n",
    "\n",
    "# # Commit changes and close the connection\n",
    "# conn.commit()\n",
    "# conn.close()\n",
    "\n",
    "# print(\"Database created and data added successfully.\")\n"
   ]
  },
  {
   "cell_type": "code",
   "execution_count": 211,
   "id": "3f4838bf-c65f-480d-b46c-efb3e3cd1dee",
   "metadata": {
    "tags": []
   },
   "outputs": [
    {
     "data": {
      "text/plain": [
       "\"Data has been successfully imported into the SQLite database 'college_data.db'.\""
      ]
     },
     "execution_count": 211,
     "metadata": {},
     "output_type": "execute_result"
    }
   ],
   "source": [
    "# # Importing data from each CSV into a SQLite database and setting up corresponding tables\n",
    "# import sqlite3\n",
    "# # Let's load and examine the structure of the newly uploaded files to understand the data and generate appropriate SQL queries\n",
    "\n",
    "# # Load the CSV files\n",
    "# students_df = pd.read_csv('students.csv')\n",
    "# enrollments_df = pd.read_csv('enrollments.csv')\n",
    "# courses_df = pd.read_csv('courses.csv')\n",
    "\n",
    "# # Display the first few rows of each dataframe to understand the data structure\n",
    "# students_df.head(), enrollments_df.head(), courses_df.head()\n",
    "\n",
    "# # Database path\n",
    "# db_path = 'college_data.db'\n",
    "\n",
    "# # Connect to SQLite database (it will create the database if it doesn't exist)\n",
    "# conn = sqlite3.connect(db_path)\n",
    "# cursor = conn.cursor()\n",
    "\n",
    "# # Create tables for each CSV file based on the data structure we observed\n",
    "# # Table for students\n",
    "# create_students_table = '''\n",
    "# CREATE TABLE IF NOT EXISTS students (\n",
    "#     StudentID INTEGER PRIMARY KEY,\n",
    "#     FirstName TEXT,\n",
    "#     LastName TEXT,\n",
    "#     Email TEXT,\n",
    "#     Major TEXT,\n",
    "#     AdvisorID INTEGER,\n",
    "#     AdvisorName TEXT\n",
    "# );\n",
    "# '''\n",
    "# cursor.execute(create_students_table)\n",
    "\n",
    "# # Table for enrollments\n",
    "# create_enrollments_table = '''\n",
    "# CREATE TABLE IF NOT EXISTS enrollments (\n",
    "#     EnrollmentID INTEGER PRIMARY KEY,\n",
    "#     StudentID INTEGER,\n",
    "#     CourseID INTEGER,\n",
    "#     Semester TEXT,\n",
    "#     Grade TEXT,\n",
    "#     FOREIGN KEY (StudentID) REFERENCES students(StudentID),\n",
    "#     FOREIGN KEY (CourseID) REFERENCES courses(CourseID)\n",
    "# );\n",
    "# '''\n",
    "# cursor.execute(create_enrollments_table)\n",
    "\n",
    "# # Table for courses\n",
    "# create_courses_table = '''\n",
    "# CREATE TABLE IF NOT EXISTS courses (\n",
    "#     CourseID INTEGER PRIMARY KEY,\n",
    "#     CourseName TEXT,\n",
    "#     InstructorID INTEGER,\n",
    "#     InstructorName TEXT,\n",
    "#     CreditHours INTEGER\n",
    "# );\n",
    "# '''\n",
    "# cursor.execute(create_courses_table)\n",
    "\n",
    "# # Insert data from DataFrames into SQLite tables\n",
    "# students_df.to_sql('students', conn, if_exists='replace', index=False)\n",
    "# enrollments_df.to_sql('enrollments', conn, if_exists='replace', index=False)\n",
    "# courses_df.to_sql('courses', conn, if_exists='replace', index=False)\n",
    "\n",
    "# # Commit changes and close the connection\n",
    "# conn.commit()\n",
    "# conn.close()\n",
    "\n",
    "# \"Data has been successfully imported into the SQLite database 'college_data.db'.\"\n"
   ]
  },
  {
   "cell_type": "code",
   "execution_count": null,
   "id": "d53824d1-e3b6-498b-85b4-da71e35a3e82",
   "metadata": {},
   "outputs": [],
   "source": []
  }
 ],
 "metadata": {
  "kernelspec": {
   "display_name": "Python 3 (ipykernel)",
   "language": "python",
   "name": "python3"
  },
  "language_info": {
   "codemirror_mode": {
    "name": "ipython",
    "version": 3
   },
   "file_extension": ".py",
   "mimetype": "text/x-python",
   "name": "python",
   "nbconvert_exporter": "python",
   "pygments_lexer": "ipython3",
   "version": "3.11.5"
  }
 },
 "nbformat": 4,
 "nbformat_minor": 5
}
